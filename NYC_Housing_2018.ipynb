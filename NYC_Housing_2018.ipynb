{
 "cells": [
  {
   "cell_type": "markdown",
   "metadata": {},
   "source": [
    "# Final Project"
   ]
  },
  {
   "cell_type": "markdown",
   "metadata": {},
   "source": [
    "#### NYC Housing Data Analysis\n",
    "* NYC_Housing_2018 is a dataframe with 20 columns and 82140 entries.\n",
    "* The datatype is mixed and has missing data. \n",
    "* The *Borough*, *Block*, *Lot*, *Zip_Code*, *Residential_Units*, *Commercial_Units* and *Total_Units* have Integer datatype\n",
    "* The EaseMent column has all null values.\n",
    "* The Apt._No. columns has majority null values.\n",
    "* The *Land_Sq_Ft*, *Gross_Sq_Ft*, *Year_Built* and *Sale_Price columns have float datatype whereas the rest of the columns are string objects dtype. \n",
    "* The *Sale_Date* column has dates as string objects. The dates range from November 2017 to October 2018.\n",
    "\n"
   ]
  },
  {
   "cell_type": "markdown",
   "metadata": {},
   "source": [
    "![NYC](https://cdn.vox-cdn.com/thumbor/ZnP9cnjIn60slvybF_34lby1uMk=/0x0:2000x1125/1200x675/filters:focal(840x403:1160x723)/cdn.vox-cdn.com/uploads/chorus_image/image/58203557/171109_06_49_10_5DSR4201.0.jpg)"
   ]
  },
  {
   "cell_type": "markdown",
   "metadata": {},
   "source": [
    "#### 1. Import standard libraries"
   ]
  },
  {
   "cell_type": "code",
   "execution_count": 2,
   "metadata": {},
   "outputs": [],
   "source": [
    "# importing numpy, pandas and matplotlib libraries\n",
    "import numpy as np\n",
    "import pandas as pd\n",
    "import matplotlib.pyplot as plt\n",
    "import seaborn as sns\n"
   ]
  },
  {
   "cell_type": "code",
   "execution_count": 3,
   "metadata": {},
   "outputs": [],
   "source": [
    "%matplotlib inline\n",
    "plt.style.use('ggplot')"
   ]
  },
  {
   "cell_type": "markdown",
   "metadata": {},
   "source": [
    "#### 2. Loading the Source Data"
   ]
  },
  {
   "cell_type": "code",
   "execution_count": 4,
   "metadata": {},
   "outputs": [],
   "source": [
    "# Loading data from the 2018.csv file with new column labels\n",
    "col_names = ['Borough', 'Neighborhood', 'Building_Class_Category', 'Tax_Class_Current', 'Block', 'Lot', 'EaseMent', 'Building_Class_Current', 'Address', 'Apt._No.', 'Zip_Code', 'Residential_Units', 'Commercial_Units', 'Total_Units', 'Land_Sq_Ft', 'Gross_Sq_Ft', 'Year_Built', 'Tax_Class_AtSale', 'Building_Class_AtSale', 'Sale_Price', 'Sale_Date']\n",
    "data=pd.read_csv(\"NYC_Housing_2018.csv\", header=0, parse_dates=True, index_col='Sale_Date', names=col_names,  na_values=[' ', ' $-   '])"
   ]
  },
  {
   "cell_type": "markdown",
   "metadata": {},
   "source": [
    "#### 3. Exploring the Data "
   ]
  },
  {
   "cell_type": "code",
   "execution_count": 5,
   "metadata": {},
   "outputs": [
    {
     "name": "stdout",
     "output_type": "stream",
     "text": [
      "(82140, 20)\n",
      "<class 'pandas.core.frame.DataFrame'>\n",
      "DatetimeIndex: 82140 entries, 2018-05-22 to 2017-11-30\n",
      "Data columns (total 20 columns):\n",
      "Borough                    82140 non-null int64\n",
      "Neighborhood               82140 non-null object\n",
      "Building_Class_Category    82140 non-null object\n",
      "Tax_Class_Current          82073 non-null object\n",
      "Block                      82140 non-null int64\n",
      "Lot                        82140 non-null int64\n",
      "EaseMent                   0 non-null float64\n",
      "Building_Class_Current     82073 non-null object\n",
      "Address                    82140 non-null object\n",
      "Apt._No.                   18587 non-null object\n",
      "Zip_Code                   82140 non-null int64\n",
      "Residential_Units          82140 non-null int64\n",
      "Commercial_Units           82140 non-null int64\n",
      "Total_Units                82140 non-null int64\n",
      "Land_Sq_Ft                 47349 non-null float64\n",
      "Gross_Sq_Ft                44890 non-null float64\n",
      "Year_Built                 75696 non-null float64\n",
      "Tax_Class_AtSale           82140 non-null int64\n",
      "Building_Class_AtSale      82140 non-null object\n",
      "Sale_Price                 57685 non-null float64\n",
      "dtypes: float64(5), int64(8), object(7)\n",
      "memory usage: 13.2+ MB\n"
     ]
    },
    {
     "data": {
      "text/html": [
       "<div>\n",
       "<style scoped>\n",
       "    .dataframe tbody tr th:only-of-type {\n",
       "        vertical-align: middle;\n",
       "    }\n",
       "\n",
       "    .dataframe tbody tr th {\n",
       "        vertical-align: top;\n",
       "    }\n",
       "\n",
       "    .dataframe thead th {\n",
       "        text-align: right;\n",
       "    }\n",
       "</style>\n",
       "<table border=\"1\" class=\"dataframe\">\n",
       "  <thead>\n",
       "    <tr style=\"text-align: right;\">\n",
       "      <th></th>\n",
       "      <th>Borough</th>\n",
       "      <th>Neighborhood</th>\n",
       "      <th>Building_Class_Category</th>\n",
       "      <th>Tax_Class_Current</th>\n",
       "      <th>Block</th>\n",
       "      <th>Lot</th>\n",
       "      <th>EaseMent</th>\n",
       "      <th>Building_Class_Current</th>\n",
       "      <th>Address</th>\n",
       "      <th>Apt._No.</th>\n",
       "      <th>Zip_Code</th>\n",
       "      <th>Residential_Units</th>\n",
       "      <th>Commercial_Units</th>\n",
       "      <th>Total_Units</th>\n",
       "      <th>Land_Sq_Ft</th>\n",
       "      <th>Gross_Sq_Ft</th>\n",
       "      <th>Year_Built</th>\n",
       "      <th>Tax_Class_AtSale</th>\n",
       "      <th>Building_Class_AtSale</th>\n",
       "      <th>Sale_Price</th>\n",
       "    </tr>\n",
       "    <tr>\n",
       "      <th>Sale_Date</th>\n",
       "      <th></th>\n",
       "      <th></th>\n",
       "      <th></th>\n",
       "      <th></th>\n",
       "      <th></th>\n",
       "      <th></th>\n",
       "      <th></th>\n",
       "      <th></th>\n",
       "      <th></th>\n",
       "      <th></th>\n",
       "      <th></th>\n",
       "      <th></th>\n",
       "      <th></th>\n",
       "      <th></th>\n",
       "      <th></th>\n",
       "      <th></th>\n",
       "      <th></th>\n",
       "      <th></th>\n",
       "      <th></th>\n",
       "      <th></th>\n",
       "    </tr>\n",
       "  </thead>\n",
       "  <tbody>\n",
       "    <tr>\n",
       "      <th>2018-05-22</th>\n",
       "      <td>1</td>\n",
       "      <td>ALPHABET CITY</td>\n",
       "      <td>01 ONE FAMILY DWELLINGS</td>\n",
       "      <td>1</td>\n",
       "      <td>390</td>\n",
       "      <td>61</td>\n",
       "      <td>NaN</td>\n",
       "      <td>A4</td>\n",
       "      <td>189 EAST 7TH STREET</td>\n",
       "      <td>NaN</td>\n",
       "      <td>10009</td>\n",
       "      <td>1</td>\n",
       "      <td>0</td>\n",
       "      <td>1</td>\n",
       "      <td>987.0</td>\n",
       "      <td>2183.0</td>\n",
       "      <td>1860.0</td>\n",
       "      <td>1</td>\n",
       "      <td>A4</td>\n",
       "      <td>4844809.0</td>\n",
       "    </tr>\n",
       "    <tr>\n",
       "      <th>2018-05-23</th>\n",
       "      <td>1</td>\n",
       "      <td>ALPHABET CITY</td>\n",
       "      <td>01 ONE FAMILY DWELLINGS</td>\n",
       "      <td>1</td>\n",
       "      <td>390</td>\n",
       "      <td>61</td>\n",
       "      <td>NaN</td>\n",
       "      <td>A4</td>\n",
       "      <td>189 EAST 7TH STREET</td>\n",
       "      <td>NaN</td>\n",
       "      <td>10009</td>\n",
       "      <td>1</td>\n",
       "      <td>0</td>\n",
       "      <td>1</td>\n",
       "      <td>987.0</td>\n",
       "      <td>2183.0</td>\n",
       "      <td>1860.0</td>\n",
       "      <td>1</td>\n",
       "      <td>A4</td>\n",
       "      <td>NaN</td>\n",
       "    </tr>\n",
       "    <tr>\n",
       "      <th>2018-04-25</th>\n",
       "      <td>1</td>\n",
       "      <td>ALPHABET CITY</td>\n",
       "      <td>02 TWO FAMILY DWELLINGS</td>\n",
       "      <td>1</td>\n",
       "      <td>390</td>\n",
       "      <td>35</td>\n",
       "      <td>NaN</td>\n",
       "      <td>B1</td>\n",
       "      <td>113 AVENUE C</td>\n",
       "      <td>NaN</td>\n",
       "      <td>10009</td>\n",
       "      <td>2</td>\n",
       "      <td>0</td>\n",
       "      <td>2</td>\n",
       "      <td>1218.0</td>\n",
       "      <td>4764.0</td>\n",
       "      <td>1899.0</td>\n",
       "      <td>1</td>\n",
       "      <td>B1</td>\n",
       "      <td>NaN</td>\n",
       "    </tr>\n",
       "    <tr>\n",
       "      <th>2018-09-07</th>\n",
       "      <td>1</td>\n",
       "      <td>ALPHABET CITY</td>\n",
       "      <td>07 RENTALS - WALKUP APARTMENTS</td>\n",
       "      <td>2</td>\n",
       "      <td>385</td>\n",
       "      <td>2</td>\n",
       "      <td>NaN</td>\n",
       "      <td>C7</td>\n",
       "      <td>21-23 AVENUE B</td>\n",
       "      <td>NaN</td>\n",
       "      <td>10009</td>\n",
       "      <td>12</td>\n",
       "      <td>4</td>\n",
       "      <td>16</td>\n",
       "      <td>4186.0</td>\n",
       "      <td>10588.0</td>\n",
       "      <td>1900.0</td>\n",
       "      <td>2</td>\n",
       "      <td>C7</td>\n",
       "      <td>10350000.0</td>\n",
       "    </tr>\n",
       "    <tr>\n",
       "      <th>2018-09-05</th>\n",
       "      <td>1</td>\n",
       "      <td>ALPHABET CITY</td>\n",
       "      <td>07 RENTALS - WALKUP APARTMENTS</td>\n",
       "      <td>2</td>\n",
       "      <td>389</td>\n",
       "      <td>18</td>\n",
       "      <td>NaN</td>\n",
       "      <td>C1</td>\n",
       "      <td>200 EAST 7TH STREET</td>\n",
       "      <td>NaN</td>\n",
       "      <td>10009</td>\n",
       "      <td>18</td>\n",
       "      <td>0</td>\n",
       "      <td>18</td>\n",
       "      <td>2271.0</td>\n",
       "      <td>10650.0</td>\n",
       "      <td>1910.0</td>\n",
       "      <td>2</td>\n",
       "      <td>C1</td>\n",
       "      <td>5000000.0</td>\n",
       "    </tr>\n",
       "  </tbody>\n",
       "</table>\n",
       "</div>"
      ],
      "text/plain": [
       "            Borough   Neighborhood  \\\n",
       "Sale_Date                            \n",
       "2018-05-22        1  ALPHABET CITY   \n",
       "2018-05-23        1  ALPHABET CITY   \n",
       "2018-04-25        1  ALPHABET CITY   \n",
       "2018-09-07        1  ALPHABET CITY   \n",
       "2018-09-05        1  ALPHABET CITY   \n",
       "\n",
       "                                Building_Class_Category Tax_Class_Current  \\\n",
       "Sale_Date                                                                   \n",
       "2018-05-22  01 ONE FAMILY DWELLINGS                                     1   \n",
       "2018-05-23  01 ONE FAMILY DWELLINGS                                     1   \n",
       "2018-04-25  02 TWO FAMILY DWELLINGS                                     1   \n",
       "2018-09-07  07 RENTALS - WALKUP APARTMENTS                              2   \n",
       "2018-09-05  07 RENTALS - WALKUP APARTMENTS                              2   \n",
       "\n",
       "            Block  Lot  EaseMent Building_Class_Current  \\\n",
       "Sale_Date                                                 \n",
       "2018-05-22    390   61       NaN                     A4   \n",
       "2018-05-23    390   61       NaN                     A4   \n",
       "2018-04-25    390   35       NaN                     B1   \n",
       "2018-09-07    385    2       NaN                     C7   \n",
       "2018-09-05    389   18       NaN                     C1   \n",
       "\n",
       "                          Address Apt._No.  Zip_Code  Residential_Units  \\\n",
       "Sale_Date                                                                 \n",
       "2018-05-22   189 EAST 7TH STREET       NaN     10009                  1   \n",
       "2018-05-23   189 EAST 7TH STREET       NaN     10009                  1   \n",
       "2018-04-25          113 AVENUE C       NaN     10009                  2   \n",
       "2018-09-07        21-23 AVENUE B       NaN     10009                 12   \n",
       "2018-09-05   200 EAST 7TH STREET       NaN     10009                 18   \n",
       "\n",
       "            Commercial_Units  Total_Units  Land_Sq_Ft  Gross_Sq_Ft  \\\n",
       "Sale_Date                                                            \n",
       "2018-05-22                 0            1       987.0       2183.0   \n",
       "2018-05-23                 0            1       987.0       2183.0   \n",
       "2018-04-25                 0            2      1218.0       4764.0   \n",
       "2018-09-07                 4           16      4186.0      10588.0   \n",
       "2018-09-05                 0           18      2271.0      10650.0   \n",
       "\n",
       "            Year_Built  Tax_Class_AtSale Building_Class_AtSale  Sale_Price  \n",
       "Sale_Date                                                                   \n",
       "2018-05-22      1860.0                 1                   A4    4844809.0  \n",
       "2018-05-23      1860.0                 1                   A4          NaN  \n",
       "2018-04-25      1899.0                 1                   B1          NaN  \n",
       "2018-09-07      1900.0                 2                   C7   10350000.0  \n",
       "2018-09-05      1910.0                 2                   C1    5000000.0  "
      ]
     },
     "execution_count": 5,
     "metadata": {},
     "output_type": "execute_result"
    }
   ],
   "source": [
    "print(data.shape)\n",
    "data.info()\n",
    "data.head()"
   ]
  },
  {
   "cell_type": "markdown",
   "metadata": {},
   "source": [
    "#### 4.Cleaning the Data: \n",
    "* Drop the NaNs or Missing Data\n",
    "* Convert the column with category values to str and year to datetime "
   ]
  },
  {
   "cell_type": "code",
   "execution_count": 6,
   "metadata": {},
   "outputs": [
    {
     "name": "stdout",
     "output_type": "stream",
     "text": [
      "<class 'pandas.core.frame.DataFrame'>\n",
      "DatetimeIndex: 29028 entries, 2018-05-22 to 2017-11-30\n",
      "Data columns (total 18 columns):\n",
      "Borough                    29028 non-null object\n",
      "Neighborhood               29028 non-null object\n",
      "Building_Class_Category    29028 non-null object\n",
      "Tax_Class_Current          29028 non-null object\n",
      "Block                      29028 non-null object\n",
      "Lot                        29028 non-null object\n",
      "Building_Class_Current     29028 non-null object\n",
      "Address                    29028 non-null object\n",
      "Zip_Code                   29028 non-null object\n",
      "Residential_Units          29028 non-null int64\n",
      "Commercial_Units           29028 non-null int64\n",
      "Total_Units                29028 non-null int64\n",
      "Land_Sq_Ft                 29028 non-null float64\n",
      "Gross_Sq_Ft                29028 non-null float64\n",
      "Year_Built                 29028 non-null int64\n",
      "Tax_Class_AtSale           29028 non-null object\n",
      "Building_Class_AtSale      29028 non-null object\n",
      "Sale_Price                 29028 non-null float64\n",
      "dtypes: float64(3), int64(4), object(11)\n",
      "memory usage: 4.2+ MB\n"
     ]
    }
   ],
   "source": [
    "# Dropping columns Easement with all null values and column Apt.No with majority null values \n",
    "data.drop(['EaseMent', 'Apt._No.'], axis=1, inplace=True)\n",
    "\n",
    "#Dropping null values\n",
    "data.dropna(axis=0, how='any', inplace=True)\n",
    "\n",
    "# Change the dtype of columns Borough, Block, Lot, Zip_Code, Tax_Class_AtSale from int to str \n",
    "data['Borough'] = data.Borough.astype(str)\n",
    "data['Block'] = data.Block.astype(str)\n",
    "data['Lot'] = data.Lot.astype(str)\n",
    "data['Tax_Class_AtSale'] = data.Tax_Class_AtSale.astype(str)\n",
    "data['Zip_Code'] = data.Zip_Code.astype(str)\n",
    "\n",
    "data['Year_Built'] = data.Year_Built.astype(int)\n",
    "data.shape\n",
    "data.info()"
   ]
  },
  {
   "cell_type": "markdown",
   "metadata": {},
   "source": [
    "#### 5.Filtering Dataframe "
   ]
  },
  {
   "cell_type": "code",
   "execution_count": 7,
   "metadata": {},
   "outputs": [
    {
     "data": {
      "text/plain": [
       "(27239, 18)"
      ]
     },
     "execution_count": 7,
     "metadata": {},
     "output_type": "execute_result"
    }
   ],
   "source": [
    "# Creating new dataframe as copy of a slice by filtering dataframe with conditional logic using boolean operators .\n",
    "df= data[(data.Sale_Price >= 100000) & (data.Sale_Price <= 10000000)].copy()\n",
    "df.shape"
   ]
  },
  {
   "cell_type": "markdown",
   "metadata": {},
   "source": [
    "#### 6. Descriptive Statistics"
   ]
  },
  {
   "cell_type": "code",
   "execution_count": 8,
   "metadata": {},
   "outputs": [
    {
     "data": {
      "text/html": [
       "<div>\n",
       "<style scoped>\n",
       "    .dataframe tbody tr th:only-of-type {\n",
       "        vertical-align: middle;\n",
       "    }\n",
       "\n",
       "    .dataframe tbody tr th {\n",
       "        vertical-align: top;\n",
       "    }\n",
       "\n",
       "    .dataframe thead th {\n",
       "        text-align: right;\n",
       "    }\n",
       "</style>\n",
       "<table border=\"1\" class=\"dataframe\">\n",
       "  <thead>\n",
       "    <tr style=\"text-align: right;\">\n",
       "      <th></th>\n",
       "      <th>Residential_Units</th>\n",
       "      <th>Commercial_Units</th>\n",
       "      <th>Total_Units</th>\n",
       "      <th>Land_Sq_Ft</th>\n",
       "      <th>Gross_Sq_Ft</th>\n",
       "      <th>Year_Built</th>\n",
       "      <th>Sale_Price</th>\n",
       "    </tr>\n",
       "  </thead>\n",
       "  <tbody>\n",
       "    <tr>\n",
       "      <th>count</th>\n",
       "      <td>27239.000000</td>\n",
       "      <td>27239.000000</td>\n",
       "      <td>27239.000000</td>\n",
       "      <td>27239.000000</td>\n",
       "      <td>27239.000000</td>\n",
       "      <td>27239.000000</td>\n",
       "      <td>2.723900e+04</td>\n",
       "    </tr>\n",
       "    <tr>\n",
       "      <th>mean</th>\n",
       "      <td>2.051030</td>\n",
       "      <td>0.131539</td>\n",
       "      <td>2.182569</td>\n",
       "      <td>3316.696758</td>\n",
       "      <td>2542.732406</td>\n",
       "      <td>1940.910900</td>\n",
       "      <td>9.765255e+05</td>\n",
       "    </tr>\n",
       "    <tr>\n",
       "      <th>std</th>\n",
       "      <td>3.433395</td>\n",
       "      <td>0.770531</td>\n",
       "      <td>3.534787</td>\n",
       "      <td>10202.737152</td>\n",
       "      <td>5085.217419</td>\n",
       "      <td>29.946681</td>\n",
       "      <td>1.100990e+06</td>\n",
       "    </tr>\n",
       "    <tr>\n",
       "      <th>min</th>\n",
       "      <td>0.000000</td>\n",
       "      <td>0.000000</td>\n",
       "      <td>0.000000</td>\n",
       "      <td>200.000000</td>\n",
       "      <td>120.000000</td>\n",
       "      <td>1800.000000</td>\n",
       "      <td>1.000000e+05</td>\n",
       "    </tr>\n",
       "    <tr>\n",
       "      <th>25%</th>\n",
       "      <td>1.000000</td>\n",
       "      <td>0.000000</td>\n",
       "      <td>1.000000</td>\n",
       "      <td>2000.000000</td>\n",
       "      <td>1349.000000</td>\n",
       "      <td>1920.000000</td>\n",
       "      <td>4.850000e+05</td>\n",
       "    </tr>\n",
       "    <tr>\n",
       "      <th>50%</th>\n",
       "      <td>2.000000</td>\n",
       "      <td>0.000000</td>\n",
       "      <td>2.000000</td>\n",
       "      <td>2500.000000</td>\n",
       "      <td>1831.000000</td>\n",
       "      <td>1930.000000</td>\n",
       "      <td>6.800000e+05</td>\n",
       "    </tr>\n",
       "    <tr>\n",
       "      <th>75%</th>\n",
       "      <td>2.000000</td>\n",
       "      <td>0.000000</td>\n",
       "      <td>2.000000</td>\n",
       "      <td>3840.000000</td>\n",
       "      <td>2551.500000</td>\n",
       "      <td>1960.000000</td>\n",
       "      <td>9.888880e+05</td>\n",
       "    </tr>\n",
       "    <tr>\n",
       "      <th>max</th>\n",
       "      <td>134.000000</td>\n",
       "      <td>42.000000</td>\n",
       "      <td>134.000000</td>\n",
       "      <td>970000.000000</td>\n",
       "      <td>285471.000000</td>\n",
       "      <td>2018.000000</td>\n",
       "      <td>1.000000e+07</td>\n",
       "    </tr>\n",
       "  </tbody>\n",
       "</table>\n",
       "</div>"
      ],
      "text/plain": [
       "       Residential_Units  Commercial_Units   Total_Units     Land_Sq_Ft  \\\n",
       "count       27239.000000      27239.000000  27239.000000   27239.000000   \n",
       "mean            2.051030          0.131539      2.182569    3316.696758   \n",
       "std             3.433395          0.770531      3.534787   10202.737152   \n",
       "min             0.000000          0.000000      0.000000     200.000000   \n",
       "25%             1.000000          0.000000      1.000000    2000.000000   \n",
       "50%             2.000000          0.000000      2.000000    2500.000000   \n",
       "75%             2.000000          0.000000      2.000000    3840.000000   \n",
       "max           134.000000         42.000000    134.000000  970000.000000   \n",
       "\n",
       "         Gross_Sq_Ft    Year_Built    Sale_Price  \n",
       "count   27239.000000  27239.000000  2.723900e+04  \n",
       "mean     2542.732406   1940.910900  9.765255e+05  \n",
       "std      5085.217419     29.946681  1.100990e+06  \n",
       "min       120.000000   1800.000000  1.000000e+05  \n",
       "25%      1349.000000   1920.000000  4.850000e+05  \n",
       "50%      1831.000000   1930.000000  6.800000e+05  \n",
       "75%      2551.500000   1960.000000  9.888880e+05  \n",
       "max    285471.000000   2018.000000  1.000000e+07  "
      ]
     },
     "execution_count": 8,
     "metadata": {},
     "output_type": "execute_result"
    }
   ],
   "source": [
    "# Descriptive statistics of the dataframe df\n",
    "df.describe()"
   ]
  },
  {
   "cell_type": "markdown",
   "metadata": {},
   "source": [
    "#### 7. Plot of NYC Housing Sale numbers classified by Boroughs"
   ]
  },
  {
   "cell_type": "code",
   "execution_count": 9,
   "metadata": {},
   "outputs": [
    {
     "data": {
      "image/png": "[encoded data removed]",
      "text/plain": [
       "<Figure size 432x288 with 1 Axes>"
      ]
     },
     "metadata": {},
     "output_type": "display_data"
    }
   ],
   "source": [
    "# Plot the number of NYC Housing Sale in 2017-18 classified by Boroughs.  . \n",
    "df['Borough'].value_counts()[:].plot(kind='bar')\n",
    "plt.ylabel('No.of Housing Sale')\n",
    "plt.title(\"NYC 2018 Housing Sale\")\n",
    "plt.xlabel('NYC Boroughs')\n",
    "tick_val = [0, 1, 2, 3, 4]\n",
    "tick_lab = ['Queens', 'Brooklyn', 'Manhattan', 'Staten Island', 'Bronx']\n",
    "plt.xticks(tick_val, tick_lab)\n",
    "plt.show()"
   ]
  },
  {
   "cell_type": "markdown",
   "metadata": {},
   "source": [
    "* The bar plot represents the number of Housing Sale in NYC for 2017-18\n",
    "* The Housing Sale are classified into the five Boroughs of NYC.\n",
    "* Queens Borough had the highest number of sale, followed by Brooklyn. \n",
    "* Bronx had the least number of Sale in the given period."
   ]
  },
  {
   "cell_type": "markdown",
   "metadata": {},
   "source": [
    "#### 8. Trend in number of Residential and Commercial Units\n",
    "* Plot the number of Residential Units in properties sold over time\n",
    "* Plot the number of Commercial Units in properties sold over time\n"
   ]
  },
  {
   "cell_type": "code",
   "execution_count": 10,
   "metadata": {},
   "outputs": [
    {
     "data": {
      "image/png": "[encoded data removed]",
      "text/plain": [
       "<Figure size 432x288 with 1 Axes>"
      ]
     },
     "metadata": {},
     "output_type": "display_data"
    },
    {
     "data": {
      "image/png": "[encoded data removed]",
      "text/plain": [
       "<Figure size 432x288 with 1 Axes>"
      ]
     },
     "metadata": {},
     "output_type": "display_data"
    }
   ],
   "source": [
    "# Plot the number of Residential Units and Commercial Units sold in the given time period.\n",
    "\n",
    "df.plot(y='Residential_Units', use_index=True, color='blue')\n",
    "plt.title('Trend: Residential Units')\n",
    "plt.xlabel('Sale Date')\n",
    "plt.ylabel('Number of Units')\n",
    "\n",
    "df.plot(y='Commercial_Units', use_index=True, color='red')\n",
    "plt.title('Trend: Commercial Units')\n",
    "plt.xlabel('Sale Date')\n",
    "plt.ylabel('Number of Units')\n",
    "\n",
    "plt.show()"
   ]
  },
  {
   "cell_type": "markdown",
   "metadata": {},
   "source": [
    "* The sale of Residential or Commercial Units do not exhibit a consistent pattern in the sales trend.\n",
    "* However, it shows that more number Residential Units were sold compared to the Commercial Units in the given period."
   ]
  },
  {
   "cell_type": "markdown",
   "metadata": {},
   "source": [
    "#### 9. Frequency Distribution of Sale Prices"
   ]
  },
  {
   "cell_type": "code",
   "execution_count": 11,
   "metadata": {},
   "outputs": [
    {
     "data": {
      "image/png": "[encoded data removed]",
      "text/plain": [
       "<Figure size 432x288 with 1 Axes>"
      ]
     },
     "metadata": {},
     "output_type": "display_data"
    }
   ],
   "source": [
    "# Histogram to represent the frequency distribution of the Sale Prices for the 2017-18 NYC Housing\n",
    "plt.hist(df.Sale_Price, bins=300, histtype='stepfilled', alpha=0.7, color='green', rwidth=1)\n",
    "plt.grid(axis='y', alpha=0.5)\n",
    "plt.xlabel('Sale_Price')\n",
    "plt.title('NYC 2018 Housing Sales Price')\n",
    "plt.show()"
   ]
  },
  {
   "cell_type": "markdown",
   "metadata": {},
   "source": [
    "* Frequency Distribution shows majority of the Price values below 10000000.\n",
    "* There are only a few selected values above that range."
   ]
  },
  {
   "cell_type": "markdown",
   "metadata": {},
   "source": [
    "#### 10. Plot Aggregate Building Class Category "
   ]
  },
  {
   "cell_type": "markdown",
   "metadata": {},
   "source": [
    "#Aggregate Building Class Category \n",
    "df.groupby([df.index.time,'Building_Class_Category'])['Building_Class_Category'].size().unstack().plot(kind='bar',stacked=True, legend=True)\n",
    "plt.legend(loc='best', bbox_to_anchor=(1, .7, 1, 0.5))\n",
    "plt.xlabel('Building Class Category')\n",
    "plt.ylabel('Number of Buildings')\n",
    "plt.title('Aggregate of the Building Class Category ')\n",
    "plt.show()"
   ]
  },
  {
   "cell_type": "markdown",
   "metadata": {},
   "source": [
    "* One family dwellings are the greatest in the building class category.\n",
    "* Close to it are the two family dwellings."
   ]
  },
  {
   "cell_type": "markdown",
   "metadata": {},
   "source": [
    "#### 11. Correlation between the NYC Housing Sale variables"
   ]
  },
  {
   "cell_type": "code",
   "execution_count": 12,
   "metadata": {},
   "outputs": [
    {
     "name": "stdout",
     "output_type": "stream",
     "text": [
      "                   Residential_Units  Commercial_Units  Total_Units  \\\n",
      "Residential_Units           1.000000          0.021318     0.975963   \n",
      "Commercial_Units            0.021318          1.000000     0.238692   \n",
      "Total_Units                 0.975963          0.238692     1.000000   \n",
      "Land_Sq_Ft                  0.021429          0.144841     0.052387   \n",
      "Gross_Sq_Ft                 0.520122          0.419695     0.596690   \n",
      "Year_Built                 -0.082653         -0.023035    -0.085303   \n",
      "Sale_Price                  0.424865          0.280078     0.473731   \n",
      "\n",
      "                   Land_Sq_Ft  Gross_Sq_Ft  Year_Built  Sale_Price  \n",
      "Residential_Units    0.021429     0.520122   -0.082653    0.424865  \n",
      "Commercial_Units     0.144841     0.419695   -0.023035    0.280078  \n",
      "Total_Units          0.052387     0.596690   -0.085303    0.473731  \n",
      "Land_Sq_Ft           1.000000     0.613128    0.026617    0.086469  \n",
      "Gross_Sq_Ft          0.613128     1.000000   -0.020431    0.405991  \n",
      "Year_Built           0.026617    -0.020431    1.000000   -0.136842  \n",
      "Sale_Price           0.086469     0.405991   -0.136842    1.000000  \n"
     ]
    }
   ],
   "source": [
    "# To illustrate correlation between the different factors of the NYC Housing Sale records \n",
    "correlation = df.corr(method = 'pearson')\n",
    "print(correlation)"
   ]
  },
  {
   "cell_type": "markdown",
   "metadata": {},
   "source": [
    "* There is a high degree of correlation between Residential_Units and Total Units, Commercial_Units and Gross_Sq_Ft, Sale_Price and Total_Units. \n",
    "* Also, there is a negative correlation between Sale_Price and Year_Built"
   ]
  },
  {
   "cell_type": "markdown",
   "metadata": {},
   "source": [
    "#### 12. Correlation Matrix using HeatMap"
   ]
  },
  {
   "cell_type": "code",
   "execution_count": 13,
   "metadata": {},
   "outputs": [
    {
     "data": {
      "image/png": "[encoded data removed]",
      "text/plain": [
       "<Figure size 432x288 with 2 Axes>"
      ]
     },
     "metadata": {},
     "output_type": "display_data"
    }
   ],
   "source": [
    "# Illustrate a correlation matrix using heatmap to understand the degree of covariance between variables of NYC Housing Sales records\n",
    "sns.heatmap(df.corr(),cmap='RdYlBu_r')\n",
    "plt.show()"
   ]
  },
  {
   "cell_type": "markdown",
   "metadata": {},
   "source": [
    "Heatmap of the Correlation matrix graphically represents the below points which are consistent with our values of Correlation.\n",
    "* There is a high degree of correlation between Residential_Units and Total Units, Commercial_Units and Gross_Sq_Ft, Sale_Price and Total_Units. \n",
    "* Also, there is a negative correlation between Sale_Price and Year_Built"
   ]
  },
  {
   "cell_type": "code",
   "execution_count": 14,
   "metadata": {},
   "outputs": [],
   "source": [
    "import statsmodels.api as sm"
   ]
  },
  {
   "cell_type": "markdown",
   "metadata": {},
   "source": [
    "#### 13. Simple Linear Regression\n",
    "* Take Total_Units to be the independent variable\n",
    "* The dependent variable is Sale_Price\n",
    "* Use simple linear regression to see if we can predict Sale Price of a property given the Total number of units in it."
   ]
  },
  {
   "cell_type": "code",
   "execution_count": 15,
   "metadata": {},
   "outputs": [
    {
     "data": {
      "text/html": [
       "<table class=\"simpletable\">\n",
       "<caption>OLS Regression Results</caption>\n",
       "<tr>\n",
       "  <th>Dep. Variable:</th>       <td>Sale_Price</td>    <th>  R-squared:         </th>  <td>   0.224</td>  \n",
       "</tr>\n",
       "<tr>\n",
       "  <th>Model:</th>                   <td>OLS</td>       <th>  Adj. R-squared:    </th>  <td>   0.224</td>  \n",
       "</tr>\n",
       "<tr>\n",
       "  <th>Method:</th>             <td>Least Squares</td>  <th>  F-statistic:       </th>  <td>   7881.</td>  \n",
       "</tr>\n",
       "<tr>\n",
       "  <th>Date:</th>             <td>Tue, 11 Dec 2018</td> <th>  Prob (F-statistic):</th>   <td>  0.00</td>   \n",
       "</tr>\n",
       "<tr>\n",
       "  <th>Time:</th>                 <td>23:45:16</td>     <th>  Log-Likelihood:    </th> <td>-4.1413e+05</td>\n",
       "</tr>\n",
       "<tr>\n",
       "  <th>No. Observations:</th>      <td> 27239</td>      <th>  AIC:               </th>  <td>8.283e+05</td> \n",
       "</tr>\n",
       "<tr>\n",
       "  <th>Df Residuals:</th>          <td> 27237</td>      <th>  BIC:               </th>  <td>8.283e+05</td> \n",
       "</tr>\n",
       "<tr>\n",
       "  <th>Df Model:</th>              <td>     1</td>      <th>                     </th>      <td> </td>     \n",
       "</tr>\n",
       "<tr>\n",
       "  <th>Covariance Type:</th>      <td>nonrobust</td>    <th>                     </th>      <td> </td>     \n",
       "</tr>\n",
       "</table>\n",
       "<table class=\"simpletable\">\n",
       "<tr>\n",
       "       <td></td>          <th>coef</th>     <th>std err</th>      <th>t</th>      <th>P>|t|</th>  <th>[0.025</th>    <th>0.975]</th>  \n",
       "</tr>\n",
       "<tr>\n",
       "  <th>const</th>       <td> 6.545e+05</td> <td> 6904.734</td> <td>   94.787</td> <td> 0.000</td> <td> 6.41e+05</td> <td> 6.68e+05</td>\n",
       "</tr>\n",
       "<tr>\n",
       "  <th>Total_Units</th> <td> 1.476e+05</td> <td> 1662.086</td> <td>   88.777</td> <td> 0.000</td> <td> 1.44e+05</td> <td> 1.51e+05</td>\n",
       "</tr>\n",
       "</table>\n",
       "<table class=\"simpletable\">\n",
       "<tr>\n",
       "  <th>Omnibus:</th>       <td>22319.707</td> <th>  Durbin-Watson:     </th>  <td>   0.918</td>  \n",
       "</tr>\n",
       "<tr>\n",
       "  <th>Prob(Omnibus):</th>  <td> 0.000</td>   <th>  Jarque-Bera (JB):  </th> <td>1285336.961</td>\n",
       "</tr>\n",
       "<tr>\n",
       "  <th>Skew:</th>           <td> 3.556</td>   <th>  Prob(JB):          </th>  <td>    0.00</td>  \n",
       "</tr>\n",
       "<tr>\n",
       "  <th>Kurtosis:</th>       <td>35.893</td>   <th>  Cond. No.          </th>  <td>    4.96</td>  \n",
       "</tr>\n",
       "</table><br/><br/>Warnings:<br/>[1] Standard Errors assume that the covariance matrix of the errors is correctly specified."
      ],
      "text/plain": [
       "<class 'statsmodels.iolib.summary.Summary'>\n",
       "\"\"\"\n",
       "                            OLS Regression Results                            \n",
       "==============================================================================\n",
       "Dep. Variable:             Sale_Price   R-squared:                       0.224\n",
       "Model:                            OLS   Adj. R-squared:                  0.224\n",
       "Method:                 Least Squares   F-statistic:                     7881.\n",
       "Date:                Tue, 11 Dec 2018   Prob (F-statistic):               0.00\n",
       "Time:                        23:45:16   Log-Likelihood:            -4.1413e+05\n",
       "No. Observations:               27239   AIC:                         8.283e+05\n",
       "Df Residuals:                   27237   BIC:                         8.283e+05\n",
       "Df Model:                           1                                         \n",
       "Covariance Type:            nonrobust                                         \n",
       "===============================================================================\n",
       "                  coef    std err          t      P>|t|      [0.025      0.975]\n",
       "-------------------------------------------------------------------------------\n",
       "const        6.545e+05   6904.734     94.787      0.000    6.41e+05    6.68e+05\n",
       "Total_Units  1.476e+05   1662.086     88.777      0.000    1.44e+05    1.51e+05\n",
       "==============================================================================\n",
       "Omnibus:                    22319.707   Durbin-Watson:                   0.918\n",
       "Prob(Omnibus):                  0.000   Jarque-Bera (JB):          1285336.961\n",
       "Skew:                           3.556   Prob(JB):                         0.00\n",
       "Kurtosis:                      35.893   Cond. No.                         4.96\n",
       "==============================================================================\n",
       "\n",
       "Warnings:\n",
       "[1] Standard Errors assume that the covariance matrix of the errors is correctly specified.\n",
       "\"\"\""
      ]
     },
     "execution_count": 15,
     "metadata": {},
     "output_type": "execute_result"
    }
   ],
   "source": [
    "# Simple Linear regression to determine the relation between Sale Price and the Total Units in the listed property.\n",
    "X = df['Total_Units']\n",
    "y = df['Sale_Price']\n",
    "X = sm.add_constant(X)\n",
    "model = sm.OLS(y, X).fit()\n",
    "predictions = model.predict(X)\n",
    "model.summary()"
   ]
  },
  {
   "cell_type": "markdown",
   "metadata": {},
   "source": [
    "**Results of Simple Linear Regression:**\n",
    "* R-squared of 0.22: Reflects loose fit of the data with limited variability of the response data.\n",
    "* P-value < 0.05: Regression coefficients are significant.\n",
    "* Absolute t-value > 2: \n",
    "Summary from the OLS output indicates:\n",
    "* Omnibus/Prob(Omnibus) and Skew value are higher, hence the model lacks normalcy.\n",
    "* Kurtosis is high to indicate a tighter clustering of residuals around zero.\n",
    "* Durbin-Watson value indicates a positive autocorrelation.\n",
    "    "
   ]
  },
  {
   "cell_type": "markdown",
   "metadata": {},
   "source": [
    "### 14. Linear Fit Plot"
   ]
  },
  {
   "cell_type": "code",
   "execution_count": 17,
   "metadata": {},
   "outputs": [
    {
     "data": {
      "image/png": "[encoded data removed]",
      "text/plain": [
       "<Figure size 432x288 with 1 Axes>"
      ]
     },
     "metadata": {},
     "output_type": "display_data"
    }
   ],
   "source": [
    "sns.regplot(x='Total_Units', y='Sale_Price', data=df);"
   ]
  },
  {
   "cell_type": "markdown",
   "metadata": {},
   "source": [
    "* Linear Regression Fit shows that there are number of well fitted data points. \n",
    "* However, regression line does not fit all of the datapoints.\n",
    "* There are a certain number of outliers as well. "
   ]
  },
  {
   "cell_type": "markdown",
   "metadata": {},
   "source": [
    "#### 15. Multiple Linear Regression"
   ]
  },
  {
   "cell_type": "code",
   "execution_count": 18,
   "metadata": {},
   "outputs": [
    {
     "data": {
      "text/html": [
       "<table class=\"simpletable\">\n",
       "<caption>OLS Regression Results</caption>\n",
       "<tr>\n",
       "  <th>Dep. Variable:</th>       <td>Sale_Price</td>    <th>  R-squared:         </th>  <td>   0.248</td>  \n",
       "</tr>\n",
       "<tr>\n",
       "  <th>Model:</th>                   <td>OLS</td>       <th>  Adj. R-squared:    </th>  <td>   0.248</td>  \n",
       "</tr>\n",
       "<tr>\n",
       "  <th>Method:</th>             <td>Least Squares</td>  <th>  F-statistic:       </th>  <td>   4492.</td>  \n",
       "</tr>\n",
       "<tr>\n",
       "  <th>Date:</th>             <td>Tue, 11 Dec 2018</td> <th>  Prob (F-statistic):</th>   <td>  0.00</td>   \n",
       "</tr>\n",
       "<tr>\n",
       "  <th>Time:</th>                 <td>23:45:47</td>     <th>  Log-Likelihood:    </th> <td>-4.1371e+05</td>\n",
       "</tr>\n",
       "<tr>\n",
       "  <th>No. Observations:</th>      <td> 27239</td>      <th>  AIC:               </th>  <td>8.274e+05</td> \n",
       "</tr>\n",
       "<tr>\n",
       "  <th>Df Residuals:</th>          <td> 27236</td>      <th>  BIC:               </th>  <td>8.274e+05</td> \n",
       "</tr>\n",
       "<tr>\n",
       "  <th>Df Model:</th>              <td>     2</td>      <th>                     </th>      <td> </td>     \n",
       "</tr>\n",
       "<tr>\n",
       "  <th>Covariance Type:</th>      <td>nonrobust</td>    <th>                     </th>      <td> </td>     \n",
       "</tr>\n",
       "</table>\n",
       "<table class=\"simpletable\">\n",
       "<tr>\n",
       "       <td></td>          <th>coef</th>     <th>std err</th>      <th>t</th>      <th>P>|t|</th>  <th>[0.025</th>    <th>0.975]</th>  \n",
       "</tr>\n",
       "<tr>\n",
       "  <th>const</th>       <td> 6.267e+05</td> <td> 6864.791</td> <td>   91.297</td> <td> 0.000</td> <td> 6.13e+05</td> <td>  6.4e+05</td>\n",
       "</tr>\n",
       "<tr>\n",
       "  <th>Gross_Sq_Ft</th> <td>   41.4617</td> <td>    1.418</td> <td>   29.247</td> <td> 0.000</td> <td>   38.683</td> <td>   44.240</td>\n",
       "</tr>\n",
       "<tr>\n",
       "  <th>Total_Units</th> <td>  1.12e+05</td> <td> 2039.468</td> <td>   54.898</td> <td> 0.000</td> <td> 1.08e+05</td> <td> 1.16e+05</td>\n",
       "</tr>\n",
       "</table>\n",
       "<table class=\"simpletable\">\n",
       "<tr>\n",
       "  <th>Omnibus:</th>       <td>20130.142</td> <th>  Durbin-Watson:     </th>  <td>   0.936</td>  \n",
       "</tr>\n",
       "<tr>\n",
       "  <th>Prob(Omnibus):</th>  <td> 0.000</td>   <th>  Jarque-Bera (JB):  </th> <td>1639922.904</td>\n",
       "</tr>\n",
       "<tr>\n",
       "  <th>Skew:</th>           <td> 2.888</td>   <th>  Prob(JB):          </th>  <td>    0.00</td>  \n",
       "</tr>\n",
       "<tr>\n",
       "  <th>Kurtosis:</th>       <td>40.571</td>   <th>  Cond. No.          </th>  <td>6.78e+03</td>  \n",
       "</tr>\n",
       "</table><br/><br/>Warnings:<br/>[1] Standard Errors assume that the covariance matrix of the errors is correctly specified.<br/>[2] The condition number is large, 6.78e+03. This might indicate that there are<br/>strong multicollinearity or other numerical problems."
      ],
      "text/plain": [
       "<class 'statsmodels.iolib.summary.Summary'>\n",
       "\"\"\"\n",
       "                            OLS Regression Results                            \n",
       "==============================================================================\n",
       "Dep. Variable:             Sale_Price   R-squared:                       0.248\n",
       "Model:                            OLS   Adj. R-squared:                  0.248\n",
       "Method:                 Least Squares   F-statistic:                     4492.\n",
       "Date:                Tue, 11 Dec 2018   Prob (F-statistic):               0.00\n",
       "Time:                        23:45:47   Log-Likelihood:            -4.1371e+05\n",
       "No. Observations:               27239   AIC:                         8.274e+05\n",
       "Df Residuals:                   27236   BIC:                         8.274e+05\n",
       "Df Model:                           2                                         \n",
       "Covariance Type:            nonrobust                                         \n",
       "===============================================================================\n",
       "                  coef    std err          t      P>|t|      [0.025      0.975]\n",
       "-------------------------------------------------------------------------------\n",
       "const        6.267e+05   6864.791     91.297      0.000    6.13e+05     6.4e+05\n",
       "Gross_Sq_Ft    41.4617      1.418     29.247      0.000      38.683      44.240\n",
       "Total_Units   1.12e+05   2039.468     54.898      0.000    1.08e+05    1.16e+05\n",
       "==============================================================================\n",
       "Omnibus:                    20130.142   Durbin-Watson:                   0.936\n",
       "Prob(Omnibus):                  0.000   Jarque-Bera (JB):          1639922.904\n",
       "Skew:                           2.888   Prob(JB):                         0.00\n",
       "Kurtosis:                      40.571   Cond. No.                     6.78e+03\n",
       "==============================================================================\n",
       "\n",
       "Warnings:\n",
       "[1] Standard Errors assume that the covariance matrix of the errors is correctly specified.\n",
       "[2] The condition number is large, 6.78e+03. This might indicate that there are\n",
       "strong multicollinearity or other numerical problems.\n",
       "\"\"\""
      ]
     },
     "execution_count": 18,
     "metadata": {},
     "output_type": "execute_result"
    }
   ],
   "source": [
    "# Multiple Linear regression to determine the relation of dependent variable Sale Price with other variables.\n",
    "X = df[['Gross_Sq_Ft', 'Total_Units']]\n",
    "y = df['Sale_Price']\n",
    "X = sm.add_constant(X)\n",
    "model = sm.OLS(y, X).fit()\n",
    "predictions = model.predict(X)\n",
    "model.summary()"
   ]
  },
  {
   "cell_type": "markdown",
   "metadata": {},
   "source": [
    "**Results of Multiple Linear Regression:**\n",
    "* R-squared of 0.25: Reflects loose fit of the data with limited variability of the response data .\n",
    "* P-value < 0.05: Regression coefficients are significant.\n",
    "* Absolute t-value > 2: \n",
    "Also, Adjusted R-square shows increase compared to our previous model, indicating the new independent variables added have siginificance.\n",
    "Summary from the OLS output indicates:\n",
    "* Omnibus/Prob(Omnibus) and Skew value are higher, hence the model lacks normalcy.\n",
    "* Kurtosis is high to indicate a tighter clustering of residuals around zero.\n",
    "* Durbin-Watson value indicates a positive autocorrelation.\n",
    "\n",
    "The overall model shows limited variability between the dependent and independent variables.\n"
   ]
  },
  {
   "cell_type": "markdown",
   "metadata": {},
   "source": [
    "### Trends in the NYC Housing market thus far.##\n",
    "A trend we wanted to identify is the\n",
    "positive correlation between **sale price** of the housing and **the sq ft of the land**. We hypothesized that\n",
    "_the more land space the higher the sale price , because in CT we see a strong positive relation\n",
    "with sq foot and price._"
   ]
  },
  {
   "cell_type": "code",
   "execution_count": 21,
   "metadata": {},
   "outputs": [
    {
     "data": {
      "text/plain": [
       "<matplotlib.collections.PathCollection at 0x7f04a031ecf8>"
      ]
     },
     "execution_count": 21,
     "metadata": {},
     "output_type": "execute_result"
    },
    {
     "data": {
      "image/png": "[encoded data removed]",
      "text/plain": [
       "<Figure size 432x288 with 1 Axes>"
      ]
     },
     "metadata": {},
     "output_type": "display_data"
    }
   ],
   "source": [
    "#Use a scatterplot to relfect the correation between Land_Sq_Ft and Sale_Price\n",
    "x= data.Land_Sq_Ft\n",
    "y= data.Sale_Price\n",
    "\n",
    "plt.xlabel('Land_Sq_Ft')\n",
    "plt.ylabel('Sale_Price')\n",
    "plt.title('Correlation Between Price and Land',color='g')\n",
    "plt.scatter(x,y, c='g')"
   ]
  },
  {
   "cell_type": "markdown",
   "metadata": {},
   "source": [
    "* Our scatterplot allowed us to see reject our hypothesis. In NYC Housing market, the land sq ft does not have a strong positive relationship with sale price."
   ]
  },
  {
   "cell_type": "markdown",
   "metadata": {},
   "source": [
    "### ScatterMatrix to showcase correlations between variables we identified earlier"
   ]
  },
  {
   "cell_type": "code",
   "execution_count": null,
   "metadata": {},
   "outputs": [],
   "source": [
    "#ScatterMatrix to showcase correlations between variables we identified earlier\n",
    "pd.scatter_matrix(data.loc[:,'Residential_Units':'Sale_Price'], figsize= (12,12),diagonal='kde')\n",
    "#kde (kernel density estimation) changes the aesthetic for sale price more "
   ]
  },
  {
   "cell_type": "code",
   "execution_count": null,
   "metadata": {},
   "outputs": [],
   "source": []
  },
  {
   "cell_type": "code",
   "execution_count": null,
   "metadata": {},
   "outputs": [],
   "source": []
  }
 ],
 "metadata": {
  "kernelspec": {
   "display_name": "Python 3",
   "language": "python",
   "name": "python3"
  },
  "language_info": {
   "codemirror_mode": {
    "name": "ipython",
    "version": 3
   },
   "file_extension": ".py",
   "mimetype": "text/x-python",
   "name": "python",
   "nbconvert_exporter": "python",
   "pygments_lexer": "ipython3",
   "version": "3.6.7"
  }
 },
 "nbformat": 4,
 "nbformat_minor": 2
}
